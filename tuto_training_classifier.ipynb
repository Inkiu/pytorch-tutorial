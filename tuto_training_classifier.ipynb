{
 "cells": [
  {
   "cell_type": "code",
   "execution_count": 1,
   "metadata": {},
   "outputs": [],
   "source": [
    "import torch\n",
    "import torchvision\n",
    "import torchvision.transforms as transforms\n",
    "\n",
    "import time\n",
    "current_milli_time = lambda: int(round(time.time() * 1000))"
   ]
  },
  {
   "cell_type": "code",
   "execution_count": 2,
   "metadata": {},
   "outputs": [
    {
     "name": "stdout",
     "output_type": "stream",
     "text": [
      "Files already downloaded and verified\n",
      "Files already downloaded and verified\n"
     ]
    }
   ],
   "source": [
    "# normalize [0, 1] -> [-1, 1]\n",
    "transform = transforms.Compose(\n",
    "    [transforms.ToTensor(), transforms.Normalize((0.5, 0.5, 0.5), (0.5, 0.5, 0.5))])\n",
    "\n",
    "train_set = torchvision.datasets.CIFAR10(root='./data/from_pytorch_download', train=True,\n",
    "                                        download=True, transform=transform)\n",
    "train_loader = torch.utils.data.DataLoader(train_set, batch_size=4, \n",
    "                                          shuffle=True, num_workers=2)\n",
    "test_set = torchvision.datasets.CIFAR10(root='./data', train=False,\n",
    "                                       download=True, transform=transform)\n",
    "test_loader = torch.utils.data.DataLoader(test_set, batch_size=4,\n",
    "                                         shuffle=False, num_workers=2)\n",
    "\n",
    "classes = ('plane', 'car', 'bird', 'cat', 'deer', 'dog', 'frog', 'horse', 'ship', 'truck')"
   ]
  },
  {
   "cell_type": "code",
   "execution_count": 3,
   "metadata": {},
   "outputs": [],
   "source": [
    "# show image sample"
   ]
  },
  {
   "cell_type": "code",
   "execution_count": 4,
   "metadata": {},
   "outputs": [],
   "source": [
    "import matplotlib.pyplot as plt\n",
    "import numpy as np\n",
    "\n",
    "def imshow(img):\n",
    "    img = img / 2 + 0.5\n",
    "    npimg = img.numpy()\n",
    "    plt.imshow(np.transpose(npimg, (1, 2, 0)))\n",
    "    plt.show()"
   ]
  },
  {
   "cell_type": "code",
   "execution_count": 5,
   "metadata": {},
   "outputs": [
    {
     "name": "stdout",
     "output_type": "stream",
     "text": [
      "4 torch.Size([4, 3, 32, 32])\n"
     ]
    },
    {
     "data": {
      "image/png": "[encoded data removed]",
      "text/plain": [
       "<Figure size 432x288 with 1 Axes>"
      ]
     },
     "metadata": {
      "needs_background": "light"
     },
     "output_type": "display_data"
    },
    {
     "name": "stdout",
     "output_type": "stream",
     "text": [
      "  car   dog  deer   car\n"
     ]
    }
   ],
   "source": [
    "data_iter = iter(train_loader)\n",
    "\n",
    "images, labels = data_iter.next()\n",
    "print(len(images), images.size())\n",
    "\n",
    "imshow(torchvision.utils.make_grid(images))\n",
    "\n",
    "print(' '.join('%5s' % classes[labels[j]] for j in range(4)))"
   ]
  },
  {
   "cell_type": "code",
   "execution_count": 6,
   "metadata": {},
   "outputs": [],
   "source": [
    "# build ConvNet\n",
    "import torch.nn as nn\n",
    "import torch.nn.functional as F\n",
    "\n",
    "class Net(nn.Module):\n",
    "    \n",
    "    def __init__(self):\n",
    "        super(Net, self).__init__()\n",
    "        self.pool = nn.MaxPool2d(2, 2) # maxpooling use for every conv1D\n",
    "        self.conv1 = nn.Conv2d(3, 6, 5) # 5x5 mask, 6 channels, input channel RGB\n",
    "        self.conv2 = nn.Conv2d(6, 16, 5)\n",
    "        self.fn1 = nn.Linear(5 * 5 * 16, 120)\n",
    "        self.fn2 = nn.Linear(120, 84)\n",
    "        self.fn3 = nn.Linear(84, 10)\n",
    "        \n",
    "    def forward(self, x):\n",
    "        x = self.pool(F.relu(self.conv1(x)))\n",
    "        x = self.pool(F.relu(self.conv2(x)))\n",
    "        x = x.view(-1, 16 * 5 * 5)\n",
    "        x = F.relu(self.fn1(x))\n",
    "        x = F.relu(self.fn2(x))\n",
    "        x = self.fn3(x)\n",
    "        return x"
   ]
  },
  {
   "cell_type": "code",
   "execution_count": 7,
   "metadata": {},
   "outputs": [],
   "source": [
    "net = Net()"
   ]
  },
  {
   "cell_type": "code",
   "execution_count": 8,
   "metadata": {},
   "outputs": [],
   "source": [
    "# loss and optimizer\n",
    "import torch.optim as optim\n",
    "criteion = nn.CrossEntropyLoss()\n",
    "optimizer = optim.SGD(net.parameters(), lr=0.001, momentum=0.9)"
   ]
  },
  {
   "cell_type": "code",
   "execution_count": 9,
   "metadata": {},
   "outputs": [
    {
     "name": "stdout",
     "output_type": "stream",
     "text": [
      "[1,  2000] loss: 2.230 \t time: 10s\n",
      "[1,  4000] loss: 1.872 \t time: 6s\n",
      "[1,  6000] loss: 1.718 \t time: 6s\n",
      "[1,  8000] loss: 1.629 \t time: 6s\n",
      "[1, 10000] loss: 1.514 \t time: 6s\n",
      "[1, 12000] loss: 1.506 \t time: 7s\n",
      "[2,  2000] loss: 1.413 \t time: 10s\n",
      "[2,  4000] loss: 1.385 \t time: 6s\n",
      "[2,  6000] loss: 1.388 \t time: 7s\n",
      "[2,  8000] loss: 1.332 \t time: 6s\n",
      "[2, 10000] loss: 1.327 \t time: 6s\n",
      "[2, 12000] loss: 1.303 \t time: 6s\n",
      "Finished Training\n"
     ]
    }
   ],
   "source": [
    "for epoch in range(2):\n",
    "    \n",
    "    running_loss = 0.0\n",
    "    start_time = current_milli_time()\n",
    "    for i, data in enumerate(train_loader, 0):\n",
    "        # inputs\n",
    "        inputs, labels = data\n",
    "        optimizer.zero_grad()\n",
    "        \n",
    "        # forward\n",
    "        outputs = net(inputs)\n",
    "        # backward\n",
    "        loss = criteion(outputs, labels)\n",
    "        loss.backward() # parameter's grad is maden.\n",
    "        # optimize\n",
    "        optimizer.step()\n",
    "        \n",
    "        # statictics\n",
    "        running_loss += loss.item()\n",
    "        if i % 2000 == 1999:\n",
    "            print('[%d, %5d] loss: %.3f \\t time: %ds' % (\n",
    "                epoch + 1, \n",
    "                i + 1, \n",
    "                running_loss / 2000, \n",
    "                (current_milli_time() - start_time) / 1000.))\n",
    "            running_loss = 0.0\n",
    "            start_time = current_milli_time()\n",
    "            \n",
    "print('Finished Training')"
   ]
  },
  {
   "cell_type": "code",
   "execution_count": 10,
   "metadata": {},
   "outputs": [
    {
     "name": "stdout",
     "output_type": "stream",
     "text": [
      "Accuracy of the network on the 10000 test images: 53 %\n"
     ]
    }
   ],
   "source": [
    "# evaluation\n",
    "correct = 0\n",
    "total = 0\n",
    "with torch.no_grad():\n",
    "    for data in test_loader:\n",
    "        images, labels = data\n",
    "        outputs = net(images)\n",
    "        _, predicted = torch.max(outputs.data, 1)\n",
    "        total += labels.size(0)\n",
    "        correct += (predicted == labels).sum().item()\n",
    "        \n",
    "print('Accuracy of the network on the 10000 test images: %d %%' % (\n",
    "    100 * correct / total))"
   ]
  },
  {
   "cell_type": "code",
   "execution_count": 11,
   "metadata": {},
   "outputs": [
    {
     "name": "stdout",
     "output_type": "stream",
     "text": [
      "Accuracy of plane : 65 %\n",
      "Accuracy of   car : 73 %\n",
      "Accuracy of  bird : 39 %\n",
      "Accuracy of   cat : 26 %\n",
      "Accuracy of  deer : 64 %\n",
      "Accuracy of   dog : 42 %\n",
      "Accuracy of  frog : 66 %\n",
      "Accuracy of horse : 58 %\n",
      "Accuracy of  ship : 55 %\n",
      "Accuracy of truck : 48 %\n"
     ]
    }
   ],
   "source": [
    "class_correct = list(0. for i in range(10))\n",
    "class_total = list(0. for i in range(10))\n",
    "\n",
    "with torch.no_grad():\n",
    "    for data in test_loader:\n",
    "        images, labels = data\n",
    "        outputs = net(images)\n",
    "        _, predicted = torch.max(outputs, 1)\n",
    "        \n",
    "        c = (predicted == labels).squeeze()\n",
    "        for i in range(4):\n",
    "            label = labels[i]\n",
    "            class_correct[label] += c[i].item()\n",
    "            class_total[label] += 1\n",
    "\n",
    "\n",
    "\n",
    "for i in range(10):\n",
    "    print('Accuracy of %5s : %2d %%' % (\n",
    "        classes[i], 100 * class_correct[i] / class_total[i]))"
   ]
  },
  {
   "cell_type": "code",
   "execution_count": 12,
   "metadata": {},
   "outputs": [],
   "source": [
    "# GPU"
   ]
  },
  {
   "cell_type": "code",
   "execution_count": 13,
   "metadata": {},
   "outputs": [
    {
     "name": "stdout",
     "output_type": "stream",
     "text": [
      "cuda:0\n"
     ]
    }
   ],
   "source": [
    "device = torch.device(\"cuda:0\" if torch.cuda.is_available else \"cpu\")\n",
    "print(device)"
   ]
  },
  {
   "cell_type": "code",
   "execution_count": 14,
   "metadata": {},
   "outputs": [
    {
     "data": {
      "text/plain": [
       "Net(\n",
       "  (pool): MaxPool2d(kernel_size=2, stride=2, padding=0, dilation=1, ceil_mode=False)\n",
       "  (conv1): Conv2d(3, 6, kernel_size=(5, 5), stride=(1, 1))\n",
       "  (conv2): Conv2d(6, 16, kernel_size=(5, 5), stride=(1, 1))\n",
       "  (fn1): Linear(in_features=400, out_features=120, bias=True)\n",
       "  (fn2): Linear(in_features=120, out_features=84, bias=True)\n",
       "  (fn3): Linear(in_features=84, out_features=10, bias=True)\n",
       ")"
      ]
     },
     "execution_count": 14,
     "metadata": {},
     "output_type": "execute_result"
    }
   ],
   "source": [
    "net = Net()\n",
    "net.to(device)"
   ]
  },
  {
   "cell_type": "code",
   "execution_count": 15,
   "metadata": {},
   "outputs": [],
   "source": [
    "import torch.optim as optim\n",
    "criteion = nn.CrossEntropyLoss()\n",
    "optimizer = optim.SGD(net.parameters(), lr=0.001, momentum=0.9)"
   ]
  },
  {
   "cell_type": "code",
   "execution_count": 16,
   "metadata": {},
   "outputs": [
    {
     "name": "stdout",
     "output_type": "stream",
     "text": [
      "[1,  2000] loss: 2.175 \t time: 20s device: 739ms\n",
      "[1,  4000] loss: 1.848 \t time: 13s device: 630ms\n",
      "[1,  6000] loss: 1.673 \t time: 13s device: 661ms\n",
      "[1,  8000] loss: 1.555 \t time: 13s device: 684ms\n",
      "[1, 10000] loss: 1.499 \t time: 13s device: 590ms\n",
      "[1, 12000] loss: 1.435 \t time: 13s device: 653ms\n",
      "[2,  2000] loss: 1.371 \t time: 18s device: 671ms\n",
      "[2,  4000] loss: 1.364 \t time: 13s device: 627ms\n",
      "[2,  6000] loss: 1.329 \t time: 13s device: 642ms\n",
      "[2,  8000] loss: 1.321 \t time: 13s device: 684ms\n",
      "[2, 10000] loss: 1.285 \t time: 13s device: 667ms\n",
      "[2, 12000] loss: 1.274 \t time: 13s device: 646ms\n",
      "Finished Training\n"
     ]
    }
   ],
   "source": [
    "for epoch in range(2):\n",
    "    \n",
    "    running_loss = 0.0\n",
    "    start_time = current_milli_time()\n",
    "    device_time = 0\n",
    "    for i, data in enumerate(train_loader, 0):\n",
    "        # inputs\n",
    "        inputs, labels = data\n",
    "        \n",
    "        start_of_to_device = current_milli_time()\n",
    "        inputs, labels = inputs.to(device), labels.to(device)\n",
    "        device_time += current_milli_time() - start_of_to_device\n",
    "        \n",
    "        optimizer.zero_grad()\n",
    "        \n",
    "        # forward\n",
    "        outputs = net(inputs)\n",
    "        # backward\n",
    "        loss = criteion(outputs, labels)\n",
    "        loss.backward() # parameter's grad is maden.\n",
    "        # optimize\n",
    "        optimizer.step()\n",
    "        \n",
    "        # statictics\n",
    "        running_loss += loss.item()\n",
    "        if i % 2000 == 1999:\n",
    "            print('[%d, %5d] loss: %.3f \\t time: %ds device: %dms' % (\n",
    "                epoch + 1, \n",
    "                i + 1, \n",
    "                running_loss / 2000, \n",
    "                (current_milli_time() - start_time) / 1000.,\n",
    "                device_time)\n",
    "            )\n",
    "                \n",
    "            running_loss = 0.0\n",
    "            start_time = current_milli_time()\n",
    "            device_time = 0\n",
    "            \n",
    "print('Finished Training')"
   ]
  }
 ],
 "metadata": {
  "kernelspec": {
   "display_name": "Python 3",
   "language": "python",
   "name": "python3"
  },
  "language_info": {
   "codemirror_mode": {
    "name": "ipython",
    "version": 3
   },
   "file_extension": ".py",
   "mimetype": "text/x-python",
   "name": "python",
   "nbconvert_exporter": "python",
   "pygments_lexer": "ipython3",
   "version": "3.7.1"
  }
 },
 "nbformat": 4,
 "nbformat_minor": 2
}
